{
 "cells": [
  {
   "cell_type": "code",
   "execution_count": 1,
   "metadata": {},
   "outputs": [],
   "source": [
    "#IS210 Gabriel Santos 3/10/2020\n",
    "#TASK 01\n",
    "def fibonacci(maxint):\n",
    "    \"\"\"Create a new function named fibonacci() that takes one required parameter:\n",
    "\n",
    "    maxint, an integer that will serve as the upper bound of the loop\n",
    "\n",
    "    Args:\n",
    "    int: This will serve as the upper bound of the loop.\n",
    "    Returns:\n",
    "    list: Returns the generated sequence as a list.\n",
    "\n",
    "    Example:\n",
    "    >>> fibonacci(50)\n",
    "    [0, 1, 1, 2, 3, 5, 8, 13, 21, 34]\n",
    "\n",
    "    >>> fibonacci(100)\n",
    "    [0, 1, 1, 2, 3, 5, 8, 13, 21, 34, 55, 89]\n",
    "\n",
    "    \"\"\"\n",
    "    newlist = []\n",
    "    myval1, myval2 = 1, 0\n",
    "    while myval2 < maxint:\n",
    "        newlist.append(myval2)\n",
    "        myval1, myval2 = myval2, myval1 + myval2\n",
    "    return newlist"
   ]
  },
  {
   "cell_type": "code",
   "execution_count": 2,
   "metadata": {},
   "outputs": [
    {
     "data": {
      "text/plain": [
       "[0, 1, 1, 2, 3, 5, 8]"
      ]
     },
     "execution_count": 2,
     "metadata": {},
     "output_type": "execute_result"
    }
   ],
   "source": [
    "fibonacci(10)"
   ]
  },
  {
   "cell_type": "code",
   "execution_count": 3,
   "metadata": {},
   "outputs": [],
   "source": [
    "#TASK 02\n",
    "import decimal\n",
    "def lexicographics(to_analyze):\n",
    "    \"\"\"A simple for-loop to loop over a data construct.\n",
    "\n",
    "    Args:\n",
    "    str: A required string.\n",
    "    Returns:\n",
    "    tup: Returns a tuple with maximum, minimum and average words.\n",
    "\n",
    "    Example:\n",
    "    >>> lexicographics('''Don't stop believing,\n",
    "    Hold on to that feeling.''')\n",
    "    (5, 3, Decimal('4'))\n",
    "\n",
    "    >>> lexicographics('''I am a test string;\n",
    "    I continue on the next line.''')\n",
    "    (6, 5, Decimal('5.5'))\n",
    "\n",
    "    \"\"\"\n",
    "    line_list = to_analyze.split('\\n')\n",
    "    min_word = 0\n",
    "    max_word = 0\n",
    "    total_words = 0\n",
    "    for line in line_list:\n",
    "        word_list = line.split(' ')\n",
    "        word_count = len(word_list)\n",
    "        if word_count < min_word or min_word == 0:\n",
    "            min_word = word_count\n",
    "        if word_count > max_word:\n",
    "            max_word = word_count\n",
    "        total_words = total_words + word_count\n",
    "    average = decimal.Decimal(total_words) / decimal.Decimal(len(line_list))\n",
    "    return (max_word, min_word, average)"
   ]
  },
  {
   "cell_type": "code",
   "execution_count": 6,
   "metadata": {},
   "outputs": [
    {
     "data": {
      "text/plain": [
       "(5, 3, Decimal('4'))"
      ]
     },
     "execution_count": 6,
     "metadata": {},
     "output_type": "execute_result"
    }
   ],
   "source": [
    "lexicographics('''Don't stop believing,\n",
    "Hold on to that feeling.''')"
   ]
  },
  {
   "cell_type": "code",
   "execution_count": null,
   "metadata": {},
   "outputs": [],
   "source": []
  }
 ],
 "metadata": {
  "kernelspec": {
   "display_name": "Python 3",
   "language": "python",
   "name": "python3"
  },
  "language_info": {
   "codemirror_mode": {
    "name": "ipython",
    "version": 3
   },
   "file_extension": ".py",
   "mimetype": "text/x-python",
   "name": "python",
   "nbconvert_exporter": "python",
   "pygments_lexer": "ipython3",
   "version": "3.7.3"
  }
 },
 "nbformat": 4,
 "nbformat_minor": 2
}
