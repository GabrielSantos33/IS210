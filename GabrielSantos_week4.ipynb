{
 "cells": [
  {
   "cell_type": "code",
   "execution_count": 17,
   "metadata": {},
   "outputs": [],
   "source": [
    "#IS210 Gabriel Santos 2/18/2020\n",
    "#TASK 01 \n",
    "def too_many_kittens(kittens, litterboxes, catfood):\n",
    "    \"\"\" Checks to see if there's at least one litterbox for each kitten,\n",
    "        and that there is a catfood available and returns a bool value.\n",
    "    Args:\n",
    "        kittens (int): The number of kittens.\n",
    "        litterboxes (int): The number of available litterboxes.\n",
    "        catfood (bool): Boolean value representing if catfood is available.\n",
    "    Returns:\n",
    "        bool: Inverse comparison of litterboxes being greater than or equal to kittens and the boolean value of catfood.\n",
    "    Examples:\n",
    "        >>> too_many_kittens(12,12,False)\n",
    "        True\n",
    "        >>> too_many_kittens(13,12,True)\n",
    "        True\n",
    "        >>> too_many_kittens(12,13,True)\n",
    "        False\n",
    "    \"\"\"\n",
    "    print (not (litterboxes >= kittens and catfood))"
   ]
  },
  {
   "cell_type": "code",
   "execution_count": 19,
   "metadata": {},
   "outputs": [
    {
     "name": "stdout",
     "output_type": "stream",
     "text": [
      "True\n"
     ]
    }
   ],
   "source": [
    "#TASK 02\n",
    "too_many_kittens(12, 12, False)"
   ]
  },
  {
   "cell_type": "code",
   "execution_count": 20,
   "metadata": {},
   "outputs": [
    {
     "name": "stdout",
     "output_type": "stream",
     "text": [
      "True\n"
     ]
    }
   ],
   "source": [
    "# TASK 03\n",
    "too_many_kittens(13, 12, True)"
   ]
  },
  {
   "cell_type": "code",
   "execution_count": 21,
   "metadata": {},
   "outputs": [
    {
     "name": "stdout",
     "output_type": "stream",
     "text": [
      "False\n"
     ]
    }
   ],
   "source": [
    "# TASK 04\n",
    "too_many_kittens(12, 13, True)"
   ]
  },
  {
   "cell_type": "code",
   "execution_count": 22,
   "metadata": {},
   "outputs": [],
   "source": [
    "# TASK 05\n",
    "def defaults(my_required, my_optional=True):\n",
    "    \"\"\" Compares my_required with my_optional to check if they are the same\n",
    "        and returns a boolean value.\n",
    "    Args:\n",
    "        my_required (bool): True, False, or None.\n",
    "        my_optional (bool,optional): True, False, or None. Default: True\n",
    "    Returns:\n",
    "        bool: Logical comparison of my_optional is my_required.\n",
    "    Examples:\n",
    "        >>> defaults(True)\n",
    "        True\n",
    "        >>> defaults(True,False)\n",
    "        False\n",
    "        >>> defaults(False,False)\n",
    "        True\n",
    "    \"\"\"\n",
    "    return my_optional is my_required"
   ]
  },
  {
   "cell_type": "code",
   "execution_count": 8,
   "metadata": {},
   "outputs": [
    {
     "data": {
      "text/plain": [
       "True"
      ]
     },
     "execution_count": 8,
     "metadata": {},
     "output_type": "execute_result"
    }
   ],
   "source": [
    "# TASK 06\n",
    "defaults(True)"
   ]
  },
  {
   "cell_type": "code",
   "execution_count": 9,
   "metadata": {},
   "outputs": [
    {
     "data": {
      "text/plain": [
       "False"
      ]
     },
     "execution_count": 9,
     "metadata": {},
     "output_type": "execute_result"
    }
   ],
   "source": [
    "# TASK 07\n",
    "defaults(True, False)"
   ]
  },
  {
   "cell_type": "code",
   "execution_count": 14,
   "metadata": {},
   "outputs": [
    {
     "data": {
      "text/plain": [
       "True"
      ]
     },
     "execution_count": 14,
     "metadata": {},
     "output_type": "execute_result"
    }
   ],
   "source": [
    "# TASK 08\n",
    "defaults(False, False)"
   ]
  },
  {
   "cell_type": "code",
   "execution_count": null,
   "metadata": {},
   "outputs": [],
   "source": []
  }
 ],
 "metadata": {
  "kernelspec": {
   "display_name": "Python 3",
   "language": "python",
   "name": "python3"
  },
  "language_info": {
   "codemirror_mode": {
    "name": "ipython",
    "version": 3
   },
   "file_extension": ".py",
   "mimetype": "text/x-python",
   "name": "python",
   "nbconvert_exporter": "python",
   "pygments_lexer": "ipython3",
   "version": "3.7.3"
  }
 },
 "nbformat": 4,
 "nbformat_minor": 2
}
