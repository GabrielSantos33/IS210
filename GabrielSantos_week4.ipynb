{
 "cells": [
  {
   "cell_type": "code",
   "execution_count": 1,
   "metadata": {},
   "outputs": [],
   "source": [
    "# Task 01\n",
    "def too_many_kittens(kittens, litterboxes, catfood):\n",
    "    \"\"\" Checks to see if there is at least one litterbox for each kitten,\n",
    "        and that there is catfood available and returns a boolean value.\n",
    "        \n",
    "    Args:\n",
    "        kittens (int): The number of kittens.\n",
    "        litterboxes (int): The number of available litterboxes.\n",
    "        catfood (bool): Boolean value representing if catfood is available.\n",
    "        \n",
    "    Returns:\n",
    "        bool: Inverse comparison of litterboxes being greater than or equal to kittens and the boolean value of catfood.\n",
    "        \n",
    "    Examples:\n",
    "        \n",
    "        >>> too_many_kittens(12, 12, False)\n",
    "        True\n",
    "        \n",
    "        >>> too_many_kittens(13, 12, True)\n",
    "        True\n",
    "        \n",
    "        >>> too_many_kittens(12, 13, True)\n",
    "        False\n",
    "    \"\"\"\n",
    "    return not (litterboxes >= kittens and catfood)"
   ]
  },
  {
   "cell_type": "code",
   "execution_count": 2,
   "metadata": {},
   "outputs": [
    {
     "data": {
      "text/plain": [
       "True"
      ]
     },
     "execution_count": 2,
     "metadata": {},
     "output_type": "execute_result"
    }
   ],
   "source": [
    "# Task 02\n",
    "too_many_kittens(12, 12, False)"
   ]
  },
  {
   "cell_type": "code",
   "execution_count": 3,
   "metadata": {},
   "outputs": [
    {
     "data": {
      "text/plain": [
       "True"
      ]
     },
     "execution_count": 3,
     "metadata": {},
     "output_type": "execute_result"
    }
   ],
   "source": [
    "# Task 03\n",
    "too_many_kittens(13, 12, True)"
   ]
  },
  {
   "cell_type": "code",
   "execution_count": 4,
   "metadata": {},
   "outputs": [
    {
     "data": {
      "text/plain": [
       "False"
      ]
     },
     "execution_count": 4,
     "metadata": {},
     "output_type": "execute_result"
    }
   ],
   "source": [
    "# Task 04\n",
    "too_many_kittens(12, 13, True)"
   ]
  },
  {
   "cell_type": "code",
   "execution_count": 5,
   "metadata": {},
   "outputs": [],
   "source": [
    "# Task 05\n",
    "def defaults(my_required, my_optional=True):\n",
    "    \"\"\" Compares my_required with my_optional to check if they are the same\n",
    "        and returns a boolean value.\n",
    "        \n",
    "    Args:\n",
    "        my_required (bool): True, False, or None.\n",
    "        my_optional (bool, optional): True, False, or None. Default: True\n",
    "        \n",
    "    Returns:\n",
    "        bool: Logical comparison of my_optional is my_required.\n",
    "        \n",
    "    Examples:\n",
    "        \n",
    "        >>> defaults(True)\n",
    "        True\n",
    "\n",
    "        >>> defaults(True, False)\n",
    "        False\n",
    "\n",
    "        >>> defaults(False, False)\n",
    "        True\n",
    "    \"\"\"\n",
    "    return my_optional is my_required"
   ]
  },
  {
   "cell_type": "code",
   "execution_count": 6,
   "metadata": {},
   "outputs": [
    {
     "data": {
      "text/plain": [
       "True"
      ]
     },
     "execution_count": 6,
     "metadata": {},
     "output_type": "execute_result"
    }
   ],
   "source": [
    "# Task 06\n",
    "defaults(True)"
   ]
  },
  {
   "cell_type": "code",
   "execution_count": 7,
   "metadata": {},
   "outputs": [
    {
     "data": {
      "text/plain": [
       "False"
      ]
     },
     "execution_count": 7,
     "metadata": {},
     "output_type": "execute_result"
    }
   ],
   "source": [
    "# Task 07\n",
    "defaults(True, False)"
   ]
  },
  {
   "cell_type": "code",
   "execution_count": 8,
   "metadata": {},
   "outputs": [
    {
     "data": {
      "text/plain": [
       "True"
      ]
     },
     "execution_count": 8,
     "metadata": {},
     "output_type": "execute_result"
    }
   ],
   "source": [
    "# Task 08\n",
    "defaults(False, False)"
   ]
  }
 ],
 "metadata": {
  "kernelspec": {
   "display_name": "Python 2",
   "language": "python",
   "name": "python2"
  },
  "language_info": {
   "codemirror_mode": {
    "name": "ipython",
    "version": 2
   },
   "file_extension": ".py",
   "mimetype": "text/x-python",
   "name": "python",
   "nbconvert_exporter": "python",
   "pygments_lexer": "ipython2",
   "version": "2.7.15"
  }
 },
 "nbformat": 4,
 "nbformat_minor": 2
}
