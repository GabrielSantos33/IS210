{
 "cells": [
  {
   "cell_type": "code",
   "execution_count": 1,
   "metadata": {},
   "outputs": [],
   "source": [
    "#IS210 Gabriel Santos 4/08/2020\n",
    "#TASK 01 \n",
    "import produce\n",
    "\n",
    "TOMATO = produce.Produce()\n",
    "\n",
    "EGGPLANT = produce.Produce(1311210802)\n",
    "\n",
    "TOMATO_ARRIVAL = TOMATO.arrival\n",
    "\n",
    "EGGPLANT_EXPIRES = EGGPLANT.get_expiration()"
   ]
  },
  {
   "cell_type": "code",
   "execution_count": 2,
   "metadata": {},
   "outputs": [
    {
     "data": {
      "text/plain": [
       "True"
      ]
     },
     "execution_count": 2,
     "metadata": {},
     "output_type": "execute_result"
    }
   ],
   "source": [
    "isinstance(TOMATO, produce.Produce)"
   ]
  },
  {
   "cell_type": "code",
   "execution_count": 3,
   "metadata": {},
   "outputs": [
    {
     "data": {
      "text/plain": [
       "True"
      ]
     },
     "execution_count": 3,
     "metadata": {},
     "output_type": "execute_result"
    }
   ],
   "source": [
    "isinstance(EGGPLANT, produce.Produce)"
   ]
  },
  {
   "cell_type": "code",
   "execution_count": 4,
   "metadata": {},
   "outputs": [],
   "source": [
    "#TASK 02\n",
    "import time\n",
    "\n",
    "\n",
    "class Snapshot(object):\n",
    "    \"\"\"Returns current Unix timestamp.\n",
    "    \"\"\"\n",
    "\n",
    "    def __init__(self):\n",
    "        \"\"\"Constructor for the Snapshot() class.\n",
    "        Attributes:\n",
    "           created (float): The Unix timestamp.\n",
    "        \"\"\"\n",
    "\n",
    "        created = time.time()\n",
    "        self.created = created"
   ]
  },
  {
   "cell_type": "code",
   "execution_count": 5,
   "metadata": {},
   "outputs": [],
   "source": [
    "mysnap = Snapshot()"
   ]
  },
  {
   "cell_type": "code",
   "execution_count": 6,
   "metadata": {},
   "outputs": [
    {
     "data": {
      "text/plain": [
       "True"
      ]
     },
     "execution_count": 6,
     "metadata": {},
     "output_type": "execute_result"
    }
   ],
   "source": [
    "hasattr(mysnap, 'created')"
   ]
  },
  {
   "cell_type": "code",
   "execution_count": 7,
   "metadata": {},
   "outputs": [],
   "source": [
    "#TASK 03\n",
    "import produce\n",
    "\n",
    "\n",
    "class Apple(produce.Produce):\n",
    "    \"\"\"This class stores the new duration time.\n",
    "    This module will be subclassing an existing class to slightly alter\n",
    "    its properties.\n",
    "    Attributes:\n",
    "        duration(int): duration of produce\n",
    "    Example:\n",
    "        >>> print Apple.duration\n",
    "        5356800\n",
    "        >>> print produce.Produce.duration\n",
    "        604800\n",
    "    \"\"\"\n",
    "\n",
    "    duration = 5356800"
   ]
  },
  {
   "cell_type": "code",
   "execution_count": 8,
   "metadata": {},
   "outputs": [
    {
     "name": "stdout",
     "output_type": "stream",
     "text": [
      "5356800\n"
     ]
    }
   ],
   "source": [
    "print(Apple.duration)"
   ]
  },
  {
   "cell_type": "code",
   "execution_count": 9,
   "metadata": {},
   "outputs": [
    {
     "name": "stdout",
     "output_type": "stream",
     "text": [
      "604800\n"
     ]
    }
   ],
   "source": [
    "print(produce.Produce.duration)"
   ]
  },
  {
   "cell_type": "code",
   "execution_count": 15,
   "metadata": {},
   "outputs": [],
   "source": [
    "#TASK 04\n",
    "\n",
    "import car\n",
    "\n",
    "class CustomCar(car.Car):\n",
    "    \"\"\"A customized version of the Car class.\n",
    "    \"\"\"\n",
    "\n",
    "    def __init__(self, color='red', tires=None):\n",
    "        \"\"\"Constructor for the CustomCar() class.\n",
    "        Args:\n",
    "            color (string): The color of the car. Defaults to 'red'.\n",
    "            tires (int): The amount of tires. Defaults to None.\n",
    "        Attributes:\n",
    "            color (string): The color of the car.\n",
    "            tires (int): The amount of tires.\n",
    "        Examples:\n",
    "            >>> mycar = CustomCar()\n",
    "            >>> len(mycar.tires)\n",
    "            4\n",
    "            >>> isinstance(mycar.tires[0], CustomTire)\n",
    "            True\n",
    "        \"\"\"\n",
    "        car.Car.__init__(self, color)\n",
    "        self.color = color\n",
    "        self.tires = tires\n",
    "        tire = CustomTire()\n",
    "        if self.tires is None:\n",
    "            self.tires = []\n",
    "            while len(self.tires) < 4:\n",
    "                self.tires.append(tire)\n",
    "\n",
    "\n",
    "class CustomTire(car.Tire):\n",
    "    \"\"\"Constructor for the CustomTire() class.\n",
    "    Args:\n",
    "        None.\n",
    "    Attributes:\n",
    "        maximum_miles (int): A pseudo-private indicator of the max miles.\n",
    "    \"\"\"\n",
    "    __maximum_miles = 500"
   ]
  },
  {
   "cell_type": "code",
   "execution_count": 16,
   "metadata": {},
   "outputs": [],
   "source": [
    "mycar = CustomCar()"
   ]
  },
  {
   "cell_type": "code",
   "execution_count": 17,
   "metadata": {},
   "outputs": [
    {
     "data": {
      "text/plain": [
       "4"
      ]
     },
     "execution_count": 17,
     "metadata": {},
     "output_type": "execute_result"
    }
   ],
   "source": [
    "len(mycar.tires)"
   ]
  },
  {
   "cell_type": "code",
   "execution_count": 18,
   "metadata": {},
   "outputs": [
    {
     "data": {
      "text/plain": [
       "True"
      ]
     },
     "execution_count": 18,
     "metadata": {},
     "output_type": "execute_result"
    }
   ],
   "source": [
    "isinstance(mycar.tires[0], CustomTire)"
   ]
  }
 ],
 "metadata": {
  "kernelspec": {
   "display_name": "Python 3",
   "language": "python",
   "name": "python3"
  },
  "language_info": {
   "codemirror_mode": {
    "name": "ipython",
    "version": 3
   },
   "file_extension": ".py",
   "mimetype": "text/x-python",
   "name": "python",
   "nbconvert_exporter": "python",
   "pygments_lexer": "ipython3",
   "version": "3.7.3"
  }
 },
 "nbformat": 4,
 "nbformat_minor": 2
}
