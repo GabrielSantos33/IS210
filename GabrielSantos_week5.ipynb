{
 "cells": [
  {
   "cell_type": "code",
   "execution_count": 1,
   "metadata": {},
   "outputs": [
    {
     "name": "stdout",
     "output_type": "stream",
     "text": [
      "['C:\\\\Users\\\\drake\\\\Week5', 'F:\\\\Users\\\\drake\\\\Anaconda3\\\\python37.zip', 'F:\\\\Users\\\\drake\\\\Anaconda3\\\\DLLs', 'F:\\\\Users\\\\drake\\\\Anaconda3\\\\lib', 'F:\\\\Users\\\\drake\\\\Anaconda3', '', 'F:\\\\Users\\\\drake\\\\Anaconda3\\\\lib\\\\site-packages', 'F:\\\\Users\\\\drake\\\\Anaconda3\\\\lib\\\\site-packages\\\\win32', 'F:\\\\Users\\\\drake\\\\Anaconda3\\\\lib\\\\site-packages\\\\win32\\\\lib', 'F:\\\\Users\\\\drake\\\\Anaconda3\\\\lib\\\\site-packages\\\\Pythonwin', 'F:\\\\Users\\\\drake\\\\Anaconda3\\\\lib\\\\site-packages\\\\IPython\\\\extensions', 'C:\\\\Users\\\\drake\\\\.ipython']\n"
     ]
    }
   ],
   "source": [
    "##IS210 Gabriel Santos 2/25/2020\n",
    "import sys\n",
    "print (sys.path)"
   ]
  },
  {
   "cell_type": "code",
   "execution_count": 2,
   "metadata": {},
   "outputs": [],
   "source": [
    "sys.path.append('C:\\\\Users\\\\drake\\\\Week5')"
   ]
  },
  {
   "cell_type": "code",
   "execution_count": 3,
   "metadata": {},
   "outputs": [],
   "source": [
    "import task_01"
   ]
  },
  {
   "cell_type": "code",
   "execution_count": 4,
   "metadata": {},
   "outputs": [],
   "source": [
    "#TASK 01\n",
    "import task_01.peanut"
   ]
  },
  {
   "cell_type": "code",
   "execution_count": 5,
   "metadata": {},
   "outputs": [
    {
     "name": "stdout",
     "output_type": "stream",
     "text": [
      "I am Truthy\n"
     ]
    }
   ],
   "source": [
    "if task_01.peanut.BUTTER: print('I am Truthy')"
   ]
  },
  {
   "cell_type": "code",
   "execution_count": 6,
   "metadata": {},
   "outputs": [
    {
     "name": "stdout",
     "output_type": "stream",
     "text": [
      "I am Falsy\n"
     ]
    }
   ],
   "source": [
    "if not task_01.peanut.OIL: print ('I am Falsy')"
   ]
  },
  {
   "cell_type": "code",
   "execution_count": 7,
   "metadata": {},
   "outputs": [],
   "source": [
    "#TASK 02\n",
    "import task_01.task_02"
   ]
  },
  {
   "cell_type": "code",
   "execution_count": 8,
   "metadata": {},
   "outputs": [
    {
     "name": "stdout",
     "output_type": "stream",
     "text": [
      "I am truthy, too!\n"
     ]
    }
   ],
   "source": [
    "if task_01.task_02.TIME: print('I am truthy, too!')"
   ]
  },
  {
   "cell_type": "code",
   "execution_count": 13,
   "metadata": {},
   "outputs": [],
   "source": [
    "#TASK 03\n",
    "import task_01.task_03"
   ]
  },
  {
   "cell_type": "code",
   "execution_count": 16,
   "metadata": {},
   "outputs": [
    {
     "data": {
      "text/plain": [
       "True"
      ]
     },
     "execution_count": 16,
     "metadata": {},
     "output_type": "execute_result"
    }
   ],
   "source": [
    "True if task_01.task_03.BUTTER else False"
   ]
  },
  {
   "cell_type": "code",
   "execution_count": 17,
   "metadata": {},
   "outputs": [
    {
     "data": {
      "text/plain": [
       "True"
      ]
     },
     "execution_count": 17,
     "metadata": {},
     "output_type": "execute_result"
    }
   ],
   "source": [
    "task_01.task_03.JELLY == task_01.task_03.BUTTER"
   ]
  }
 ],
 "metadata": {
  "kernelspec": {
   "display_name": "Python 3",
   "language": "python",
   "name": "python3"
  },
  "language_info": {
   "codemirror_mode": {
    "name": "ipython",
    "version": 3
   },
   "file_extension": ".py",
   "mimetype": "text/x-python",
   "name": "python",
   "nbconvert_exporter": "python",
   "pygments_lexer": "ipython3",
   "version": "3.7.3"
  }
 },
 "nbformat": 4,
 "nbformat_minor": 2
}
