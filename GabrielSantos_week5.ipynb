{
 "cells": [
  {
   "cell_type": "code",
   "execution_count": 2,
   "metadata": {},
   "outputs": [
    {
     "name": "stdout",
     "output_type": "stream",
     "text": [
      "I am Truthy\n",
      "I am Falsy\n"
     ]
    }
   ],
   "source": [
    "# Task 01\n",
    "import task_01.peanut\n",
    "\n",
    "if task_01.peanut.BUTTER:\n",
    "    print 'I am Truthy'\n",
    "    \n",
    "if not task_01.peanut.OIL:\n",
    "    print 'I am Falsy'\n",
    "    "
   ]
  },
  {
   "cell_type": "code",
   "execution_count": 3,
   "metadata": {},
   "outputs": [
    {
     "name": "stdout",
     "output_type": "stream",
     "text": [
      "I am truthy, too!\n"
     ]
    }
   ],
   "source": [
    "# Task 02\n",
    "import task_02\n",
    "\n",
    "if task_02.TIME:\n",
    "    print 'I am truthy, too!'"
   ]
  },
  {
   "cell_type": "code",
   "execution_count": 4,
   "metadata": {},
   "outputs": [
    {
     "data": {
      "text/plain": [
       "True"
      ]
     },
     "execution_count": 4,
     "metadata": {},
     "output_type": "execute_result"
    }
   ],
   "source": [
    "# Task 03\n",
    "import task_03\n",
    "\n",
    "True if task_03.BUTTER else False\n",
    "\n",
    "task_03.JELLY == task_03.BUTTER"
   ]
  },
  {
   "cell_type": "code",
   "execution_count": null,
   "metadata": {},
   "outputs": [],
   "source": []
  }
 ],
 "metadata": {
  "kernelspec": {
   "display_name": "Python 2",
   "language": "python",
   "name": "python2"
  },
  "language_info": {
   "codemirror_mode": {
    "name": "ipython",
    "version": 2
   },
   "file_extension": ".py",
   "mimetype": "text/x-python",
   "name": "python",
   "nbconvert_exporter": "python",
   "pygments_lexer": "ipython2",
   "version": "2.7.15"
  }
 },
 "nbformat": 4,
 "nbformat_minor": 2
}
