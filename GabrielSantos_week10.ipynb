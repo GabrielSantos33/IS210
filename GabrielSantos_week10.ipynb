{
 "cells": [
  {
   "cell_type": "code",
   "execution_count": 1,
   "metadata": {},
   "outputs": [],
   "source": [
    "#IS210 Gabriel Santos 4/01/2020"
   ]
  },
  {
   "cell_type": "code",
   "execution_count": 1,
   "metadata": {},
   "outputs": [
    {
     "name": "stdout",
     "output_type": "stream",
     "text": [
      "['C:\\\\Users\\\\drake', 'F:\\\\Users\\\\drake\\\\Anaconda3\\\\python37.zip', 'F:\\\\Users\\\\drake\\\\Anaconda3\\\\DLLs', 'F:\\\\Users\\\\drake\\\\Anaconda3\\\\lib', 'F:\\\\Users\\\\drake\\\\Anaconda3', '', 'F:\\\\Users\\\\drake\\\\Anaconda3\\\\lib\\\\site-packages', 'F:\\\\Users\\\\drake\\\\Anaconda3\\\\lib\\\\site-packages\\\\win32', 'F:\\\\Users\\\\drake\\\\Anaconda3\\\\lib\\\\site-packages\\\\win32\\\\lib', 'F:\\\\Users\\\\drake\\\\Anaconda3\\\\lib\\\\site-packages\\\\Pythonwin', 'F:\\\\Users\\\\drake\\\\Anaconda3\\\\lib\\\\site-packages\\\\IPython\\\\extensions', 'C:\\\\Users\\\\drake\\\\.ipython']\n"
     ]
    }
   ],
   "source": [
    "import sys\n",
    "print (sys.path)\n",
    "\n",
    "sys.path.append('D:\\\\Users\\\\drake\\\\Documents\\\\CUNY SPS\\\\IS210\\\\Week 10')"
   ]
  },
  {
   "cell_type": "code",
   "execution_count": 2,
   "metadata": {},
   "outputs": [],
   "source": [
    "import data"
   ]
  },
  {
   "cell_type": "code",
   "execution_count": 3,
   "metadata": {},
   "outputs": [],
   "source": [
    "#TASK 1\n",
    "NIGEL = data.BANDS['Spinal Tap']['Nigel Tufnel']\n",
    "BAND_NAMES = data.BANDS.keys()\n"
   ]
  },
  {
   "cell_type": "code",
   "execution_count": 4,
   "metadata": {},
   "outputs": [
    {
     "name": "stdout",
     "output_type": "stream",
     "text": [
      "<module 'data' from 'C:\\\\Users\\\\drake\\\\data.py'>\n"
     ]
    }
   ],
   "source": [
    "print(data)"
   ]
  },
  {
   "cell_type": "code",
   "execution_count": 5,
   "metadata": {},
   "outputs": [],
   "source": [
    "# TASK 2\n",
    "import data\n",
    "\n",
    "CORRECTED = data.BANDS.copy()\n",
    "\n",
    "CORRECTED['Dylan'] = {'Bob Dylan': ['vocals', 'guitar', 'harmonica']}\n",
    "\n",
    "del CORRECTED['Van Halen']['David Lee Roth']\n",
    "\n",
    "CORRECTED['Van Halen']['Sammy Hagar'] = ['vocals']"
   ]
  },
  {
   "cell_type": "code",
   "execution_count": 9,
   "metadata": {},
   "outputs": [
    {
     "name": "stdout",
     "output_type": "stream",
     "text": [
      "{'Spinal Tap': {'David St. Hubbins': ['vocals', 'guitar'], 'Nigel Tufnel': ['guitar', 'vocals', 'bass', 'violin', 'harmonica', 'clarinet', 'keyboards', 'piano'], 'Derek Smalls': ['bass', 'vocals'], 'Jeffery Vanston': ['keyboards', 'piano', 'vocals'], 'Gregg Bissonette': ['drums']}, 'The Beatles': {'John': ['vocals', 'guitar', 'piano', 'keyboards'], 'Paul': ['vocals', 'bass', 'piano', 'keyboards'], 'George': ['vocals', 'guitar', 'other'], 'Ringo': ['vocals', 'drums']}, 'The Who': {'Roger Daltrey': ['vocals'], 'John Entwistle': ['bass'], 'Keith Moon': ['drums'], 'Pete Townsend': ['guitar']}, 'Van Halen': {'Eddie Van Halen': ['guitar'], 'Alex Van Halen': ['drums'], 'Michael Anthony': ['bass'], 'Sammy Hagar': ['vocals']}, 'Fleetwood Mac': {'Mick Fleetwood': ['drums'], 'John McVie': ['bass'], 'Christine McVie': ['vocals', 'piano', 'keyboards'], 'Lindsey Buckingham': ['guitar', 'vocals'], 'Stevie Nicks': ['vocals', 'tambourine']}, 'Queen': {'Freddie Mercury': ['vocals', 'piano'], 'Brian May': ['guitar', 'vocals'], 'John Deacon': ['bass'], 'Roger Taylor': ['drums', 'vocals']}, 'The Rolling Stones': {'Mick Jagger': ['vocals', 'harmonica', 'percussion', 'guitar', 'piano', 'bass'], 'Keith Richards': ['guitar', 'vocals'], 'Charlie Watts': ['drums', 'percussion'], 'Ronnie Wood': ['guitar', 'vocals', 'bass']}, 'Buckingham Nicks': {'Lindsey Buckingham': ['guitar', 'vocals'], 'Stevie Nicks': ['vocals', 'tambourine']}}\n"
     ]
    }
   ],
   "source": [
    "print(data.BANDS.copy())"
   ]
  },
  {
   "cell_type": "code",
   "execution_count": 6,
   "metadata": {},
   "outputs": [],
   "source": [
    "# TASK 03\n",
    "import data\n",
    "\n",
    "data.BANDS['Buckingham Nicks'] = {\n",
    "    'Lindsey Buckingham': ['guitar', 'vocals'],\n",
    "    'Stevie Nicks': ['vocals', 'tambourine']\n",
    "}\n",
    "\n",
    "data.BANDS['Fleetwood Mac'].update(data.BANDS['Buckingham Nicks'])"
   ]
  },
  {
   "cell_type": "code",
   "execution_count": 7,
   "metadata": {},
   "outputs": [],
   "source": [
    "# TASK 05\n",
    "\n",
    "import data\n",
    "\n",
    "data.SUPERHEROES['Logan']['alias'] = 'Wolverine'"
   ]
  },
  {
   "cell_type": "code",
   "execution_count": 10,
   "metadata": {},
   "outputs": [
    {
     "name": "stdout",
     "output_type": "stream",
     "text": [
      "{'Kitty Pryde': {'alias': 'Shadowcat', 'pet': 'Lockheed'}, 'Bruce Wayne': {'alias': 'Batman', 'pet': 'Ace'}, 'Clark Kent': {'alias': 'Superman', 'pet': 'Krypto'}, 'Samuel Wilson': {'alias': 'Falcon', 'pet': 'Redwing'}, 'Logan': {'alias': 'Wolverine'}}\n"
     ]
    }
   ],
   "source": [
    "print(data.SUPERHEROES)"
   ]
  },
  {
   "cell_type": "code",
   "execution_count": 24,
   "metadata": {},
   "outputs": [],
   "source": [
    "# TASK 06\n",
    "\n",
    "DATA = {\n",
    "    2: 7493945,\n",
    "    76: 4654320,\n",
    "    3: 4091979,\n",
    "    90: 1824881,\n",
    "    82: 714422,\n",
    "    45: 1137701,\n",
    "    10: 374362,\n",
    "    0: 326226,\n",
    "    -15: 417203,\n",
    "    -56: 333525,\n",
    "    67: 323451,\n",
    "    99: 321696,\n",
    "    21: 336753,\n",
    "    -100: 361237,\n",
    "    55: 1209714,\n",
    "    5150: 1771800,\n",
    "    42: 4714011,\n",
    "    888: 14817667,\n",
    "    3500: 13760234,\n",
    "    712: 10903322,\n",
    "    7: 10443792,\n",
    "    842: 11716264,\n",
    "    18584: 10559923,\n",
    "    666: 9275602,\n",
    "    70: 11901200,\n",
    "    153: 12074784,\n",
    "    8: 4337229\n",
    "}\n",
    "\n",
    "TEST = {\n",
    "    1: 10,\n",
    "    2: 40,\n",
    "    3: 60,\n",
    "    4: 80,\n",
    "    5: 100,\n",
    "    6: 200,\n",
    "    7: 300,\n",
    "    8: 500,\n",
    "    9: 601,\n",
    "    10: 1111\n",
    "}\n",
    "\n",
    "\n",
    "def iter_dict_funky_sum(myvar):\n",
    "    \"\"\"Dictionary iteration using the iteritems() method.\n",
    "    Args:\n",
    "        myvar(dict): A dictionary argument.\n",
    "        Returns:\n",
    "        (int): A running total of the value sum minus the keys.\n",
    "    Examples:\n",
    "        >>> iter_dict_funky_sum(DATA)\n",
    "        140166242\n",
    "        >>> iter_dict_funky_sum(TEST)\n",
    "        2947\n",
    "    \"\"\"\n",
    "    running_total = 0\n",
    "    for mykey, myvalue in myvar.items():\n",
    "        running_total = running_total + myvalue - mykey\n",
    "    return running_total\n"
   ]
  },
  {
   "cell_type": "code",
   "execution_count": 9,
   "metadata": {},
   "outputs": [
    {
     "name": "stdout",
     "output_type": "stream",
     "text": [
      "{2: 7493945, 76: 4654320, 3: 4091979, 90: 1824881, 82: 714422, 45: 1137701, 10: 374362, 0: 326226, -15: 417203, -56: 333525, 67: 323451, 99: 321696, 21: 336753, -100: 361237, 55: 1209714, 5150: 1771800, 42: 4714011, 888: 14817667, 3500: 13760234, 712: 10903322, 7: 10443792, 842: 11716264, 18584: 10559923, 666: 9275602, 70: 11901200, 153: 12074784, 8: 4337229}\n"
     ]
    }
   ],
   "source": [
    "print(DATA)"
   ]
  },
  {
   "cell_type": "code",
   "execution_count": 25,
   "metadata": {},
   "outputs": [
    {
     "name": "stdout",
     "output_type": "stream",
     "text": [
      "{1: 10, 2: 40, 3: 60, 4: 80, 5: 100, 6: 200, 7: 300, 8: 500, 9: 601, 10: 1111}\n"
     ]
    }
   ],
   "source": [
    "print(TEST)"
   ]
  },
  {
   "cell_type": "code",
   "execution_count": 26,
   "metadata": {},
   "outputs": [],
   "source": [
    "def iter_dict_funky_sum(myvar):\n",
    "    running_total = 0\n",
    "    for mykey, myvalue in myvar.items():\n",
    "        running_total = running_total + myvalue - mykey\n",
    "    return running_total"
   ]
  },
  {
   "cell_type": "code",
   "execution_count": 22,
   "metadata": {},
   "outputs": [
    {
     "data": {
      "text/plain": [
       "2947"
      ]
     },
     "execution_count": 22,
     "metadata": {},
     "output_type": "execute_result"
    }
   ],
   "source": [
    "iter_dict_funky_sum(TEST)"
   ]
  },
  {
   "cell_type": "code",
   "execution_count": 27,
   "metadata": {},
   "outputs": [
    {
     "data": {
      "text/plain": [
       "140166242"
      ]
     },
     "execution_count": 27,
     "metadata": {},
     "output_type": "execute_result"
    }
   ],
   "source": [
    "iter_dict_funky_sum(DATA)"
   ]
  }
 ],
 "metadata": {
  "kernelspec": {
   "display_name": "Python 3",
   "language": "python",
   "name": "python3"
  },
  "language_info": {
   "codemirror_mode": {
    "name": "ipython",
    "version": 3
   },
   "file_extension": ".py",
   "mimetype": "text/x-python",
   "name": "python",
   "nbconvert_exporter": "python",
   "pygments_lexer": "ipython3",
   "version": "3.7.3"
  }
 },
 "nbformat": 4,
 "nbformat_minor": 2
}
