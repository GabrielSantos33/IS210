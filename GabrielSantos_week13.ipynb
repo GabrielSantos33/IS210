{
 "cells": [
  {
   "cell_type": "code",
   "execution_count": 14,
   "metadata": {},
   "outputs": [],
   "source": [
    "#IS210 Gabriel Santos 4/22/2020\n",
    "#TASK 01 \n",
    "import csv\n",
    "import json\n",
    "import os\n",
    "import unittest\n",
    "\n",
    "GRADES = {\n",
    "    'A': float(1.00),\n",
    "    'B': float(0.90),\n",
    "    'C': float(0.80),\n",
    "    'D': float(0.70),\n",
    "    'F': float(0.60),\n",
    "}\n",
    "\n",
    "def get_score_summary(filename):\n",
    "\n",
    "    \"\"\"This function creates grading scale as a dictionary with float values\n",
    "    This function takes exactly one argument, a string which represents the\n",
    "    filename whose data will be read and interpreted.\n",
    "    Args:\n",
    "        file(mix): csv file.\n",
    "    Returns:\n",
    "        Returns Value.\n",
    "    Examples:\n",
    "        >>> get_score_summary('inspection_results.csv')\n",
    "        >>> {'BRONX': (156, 0.9762820512820514), 'BROOKLYN':\n",
    "        (417, 0.9745803357314141), 'STATEN ISLAND': (46, 0.9804347826086955),\n",
    "        'MANHATTAN': (748, 0.9771390374331531), 'QUEENS':\n",
    "        (414, 0.9719806763285017)}\n",
    "    \"\"\"\n",
    "\n",
    "    fhandler = open('inspection_results.csv', 'r')\n",
    "    csv_file = csv.reader(fhandler)\n",
    "    mydata1 = {}\n",
    "\n",
    "    for line in csv_file:\n",
    "        if line[0] not in mydata1 and line[10] in GRADES:\n",
    "            mydata1.update({line[0]: [line[10], line[1]]})\n",
    "\n",
    "    fhandler.close()\n",
    "\n",
    "    mydata2 = {}\n",
    "\n",
    "    for item in mydata1.values():\n",
    "        try:\n",
    "            mydata2[item[1]][0] += 1\n",
    "            mydata2[item[1]][1] += GRADES[item[0]]\n",
    "        except KeyError:\n",
    "            mydata2[item[1]] = [1, GRADES[item[0]]]\n",
    "\n",
    "    mydata3 = {}\n",
    "\n",
    "    for boro, grade in mydata2.iteritems():\n",
    "        mydata3[boro] = grade[0], grade[1]/grade[0]\n",
    "\n",
    "    return mydata3"
   ]
  },
  {
   "cell_type": "code",
   "execution_count": 5,
   "metadata": {},
   "outputs": [
    {
     "name": "stdout",
     "output_type": "stream",
     "text": [
      "{'A': 1.0, 'B': 0.9, 'C': 0.8, 'D': 0.7, 'F': 0.6}\n"
     ]
    }
   ],
   "source": [
    "get_score_summary\n",
    "print(GRADES)"
   ]
  },
  {
   "cell_type": "code",
   "execution_count": null,
   "metadata": {},
   "outputs": [],
   "source": [
    "get_score_summary('inspection_results.csv')"
   ]
  },
  {
   "cell_type": "code",
   "execution_count": 15,
   "metadata": {},
   "outputs": [],
   "source": [
    "# TASK 02\n",
    "\n",
    "import csv\n",
    "import json\n",
    "import os\n",
    "import unittest\n",
    "\n",
    "def get_market_density(filename):\n",
    "    \"\"\"This function loads data.\n",
    "    Args:\n",
    "        filename(str): some values.\n",
    "    Return:\n",
    "        return values.\n",
    "    Examples:\n",
    "        >>>get_market_density('green_markets.json')\n",
    "        {u'STATEN ISLAND': 2, u'BROOKLYN': 48, u'BRONX': 32,\n",
    "        u'MANHATTAN': 39, u'QUEENS': 16}\n",
    "    \"\"\"\n",
    "    load_file = open('inspection_results.csv', 'r')\n",
    "    load_data = json.load(load_file)\n",
    "    ret_data = {}\n",
    "\n",
    "    for values in load_data['data']:\n",
    "        place = values[8].strip()\n",
    "\n",
    "        if place in ret_data:\n",
    "            ret_data[place] += 1\n",
    "        else:\n",
    "            ret_data[place] = 1\n",
    "    return ret_data"
   ]
  },
  {
   "cell_type": "code",
   "execution_count": null,
   "metadata": {},
   "outputs": [],
   "source": [
    "get_market_density('green_markets.json')"
   ]
  },
  {
   "cell_type": "code",
   "execution_count": 22,
   "metadata": {},
   "outputs": [],
   "source": [
    "# TASK 03\n",
    "\n",
    "import csv\n",
    "import json\n",
    "import os\n",
    "import unittest\n",
    "\n",
    "def correlate_data(arg1='inspection_results.csv',\n",
    "                   arg2='green_markets.json',\n",
    "                   arg3='result.json'):\n",
    "    \"\"\"This function has three arguments that combine data and return average.\n",
    "    Args:\n",
    "        arg1(file): csv file.\n",
    "        arg2(file): contains jason file.\n",
    "        arg3(file): a file.\n",
    "    Return:\n",
    "        returns dict data.\n",
    "    Example:\n",
    "        {'BRONX': (0.9762820512820514, 0.1987179487179487)}\n",
    "    \"\"\"\n",
    "    output = {}\n",
    "    avg_score = get_score_summary(arg1)\n",
    "    avg_data = get_market_density(arg2)\n",
    "    for key1 in avg_data.iterkeys():\n",
    "        for key2 in avg_score.iterkeys():\n",
    "            if key2 == str(key1).upper():\n",
    "                val1 = avg_score[key2][1]\n",
    "                val2 = float(avg_data[key1])/(avg_score[key2][0])\n",
    "                output[key1] = (val1, val2)\n",
    "                output.update(output)\n",
    " \n",
    "    jdata = json.dumps(output)\n",
    "    fhandler = open(arg3, 'w')\n",
    "    fhandler.write(jdata)\n",
    "    fhandler.close()"
   ]
  },
  {
   "cell_type": "code",
   "execution_count": null,
   "metadata": {},
   "outputs": [],
   "source": []
  }
 ],
 "metadata": {
  "kernelspec": {
   "display_name": "Python 3",
   "language": "python",
   "name": "python3"
  },
  "language_info": {
   "codemirror_mode": {
    "name": "ipython",
    "version": 3
   },
   "file_extension": ".py",
   "mimetype": "text/x-python",
   "name": "python",
   "nbconvert_exporter": "python",
   "pygments_lexer": "ipython3",
   "version": "3.7.3"
  }
 },
 "nbformat": 4,
 "nbformat_minor": 2
}
