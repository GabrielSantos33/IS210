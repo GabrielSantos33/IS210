{
 "cells": [
  {
   "cell_type": "code",
   "execution_count": 2,
   "metadata": {},
   "outputs": [
    {
     "name": "stdout",
     "output_type": "stream",
     "text": [
      "What is your name?Gabriel\n"
     ]
    }
   ],
   "source": [
    "#IS210 Gabriel Santos 3/17/2020\n",
    "#TASK 1\n",
    "MY_ANSWER = input(\"What is your name?\")"
   ]
  },
  {
   "cell_type": "code",
   "execution_count": 3,
   "metadata": {},
   "outputs": [
    {
     "data": {
      "text/plain": [
       "'Gabriel'"
      ]
     },
     "execution_count": 3,
     "metadata": {},
     "output_type": "execute_result"
    }
   ],
   "source": [
    "MY_ANSWER"
   ]
  },
  {
   "cell_type": "code",
   "execution_count": 4,
   "metadata": {},
   "outputs": [
    {
     "name": "stdout",
     "output_type": "stream",
     "text": [
      "How old are you?44\n"
     ]
    }
   ],
   "source": [
    "#TASK 2\n",
    "MY_INTEGER = input(\"How old are you?\")\n",
    "MY_INTEGER = int(MY_INTEGER)"
   ]
  },
  {
   "cell_type": "code",
   "execution_count": 5,
   "metadata": {},
   "outputs": [
    {
     "data": {
      "text/plain": [
       "44"
      ]
     },
     "execution_count": 5,
     "metadata": {},
     "output_type": "execute_result"
    }
   ],
   "source": [
    "MY_INTEGER"
   ]
  },
  {
   "cell_type": "code",
   "execution_count": 1,
   "metadata": {},
   "outputs": [
    {
     "name": "stdout",
     "output_type": "stream",
     "text": [
      "What is your blood pressure? 118\n",
      "Your status is currently: Ideal\n"
     ]
    }
   ],
   "source": [
    "#TASK 3\n",
    "\n",
    "\"\"\"This module will measure blood pressure.\"\"\"\n",
    "\n",
    "\n",
    "BP = input(\"What is your blood pressure? \")\n",
    "BP = int(BP)\n",
    "\n",
    "if BP <= 89:\n",
    "    BP_STATUS = 'Low'\n",
    "\n",
    "elif BP >= 90 and BP <= 119:\n",
    "    BP_STATUS = 'Ideal'\n",
    "\n",
    "elif BP >= 120 and BP <= 139:\n",
    "    BP_STATUS = 'Warning'\n",
    "\n",
    "elif BP >= 140 and BP <= 159:\n",
    "    BP_STATUS = 'High'\n",
    "\n",
    "else:\n",
    "    BP_STATUS = 'Emergency'\n",
    "\n",
    "OUTPUT = 'Your status is currently: {}'.format(BP_STATUS)\n",
    "print(OUTPUT)"
   ]
  }
 ],
 "metadata": {
  "kernelspec": {
   "display_name": "Python 3",
   "language": "python",
   "name": "python3"
  },
  "language_info": {
   "codemirror_mode": {
    "name": "ipython",
    "version": 3
   },
   "file_extension": ".py",
   "mimetype": "text/x-python",
   "name": "python",
   "nbconvert_exporter": "python",
   "pygments_lexer": "ipython3",
   "version": "3.7.3"
  }
 },
 "nbformat": 4,
 "nbformat_minor": 2
}
