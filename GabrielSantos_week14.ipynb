{
 "cells": [
  {
   "cell_type": "code",
   "execution_count": 4,
   "metadata": {},
   "outputs": [],
   "source": [
    "#IS210 Gabriel Santos 4/28/2020\n",
    "#TASK 01 \n",
    "import pet\n",
    "\n",
    "class Dog(pet.Pet):\n",
    "    \"\"\"Dog class from pet module.\n",
    "    Attribute:\n",
    "        None\n",
    "    \"\"\"\n",
    "    def __init__(self, has_shots=False, **kwargs):\n",
    "        \"\"\"Constructor for the Dog class.\n",
    "        Args:\n",
    "            has_shots(bool): defaults to False.\n",
    "            **kwargs(mix): an arbitrary arguments.\n",
    "        Return:\n",
    "            None.\n",
    "        \"\"\"\n",
    "        pet.Pet.__init__(self, **kwargs)\n",
    "        self.has_shots = has_shots"
   ]
  },
  {
   "cell_type": "code",
   "execution_count": 19,
   "metadata": {},
   "outputs": [],
   "source": [
    "# TASK 02\n",
    "from data_1 import FRUIT\n",
    "\n",
    "\n",
    "def get_cost_per_item(shoplist):\n",
    "    \"\"\"A function to calculate the cost per item on a shopping list.\n",
    "    Args:\n",
    "        shoplist(dict): A list of items.\n",
    "    Example:\n",
    "        >>> shoplist = {\n",
    "        'Apple': 4,\n",
    "        'Beet': 2,\n",
    "        'Black Plum': 10,\n",
    "        'Grenade Pluot': 5}\n",
    "        >>> get_cost_per_item(shoplist)\n",
    "        {'Grenade Pluot': 9.95, 'Black Plum': 29.900000000000002}\n",
    "    \"\"\"\n",
    "    return {key: FRUIT[key] * shoplist[key] for key in\n",
    "            shoplist.iterkeys() if key in FRUIT}\n",
    "\n",
    "\n",
    "def get_total_cost(shoplist):\n",
    "    \"\"\"A function to calculate the total cost of all items together.\n",
    "    Args:\n",
    "        shoplist(dict): A list of items.\n",
    "    Example:\n",
    "        >>> shoplist = {\n",
    "        'Apple': 4,\n",
    "        'Beet': 2,\n",
    "        'Black Plum': 10,\n",
    "        'Grenade Pluot': 5}\n",
    "        >>> get_total_cost(shoplist)\n",
    "        39.85\n",
    "    \"\"\"\n",
    "    return sum(val for val in get_cost_per_item(shoplist).itervalues())"
   ]
  },
  {
   "cell_type": "code",
   "execution_count": 21,
   "metadata": {},
   "outputs": [
    {
     "name": "stdout",
     "output_type": "stream",
     "text": [
      "<function get_cost_per_item at 0x000001F306662400>\n"
     ]
    }
   ],
   "source": [
    "print(get_cost_per_item)"
   ]
  },
  {
   "cell_type": "code",
   "execution_count": 28,
   "metadata": {},
   "outputs": [
    {
     "name": "stdout",
     "output_type": "stream",
     "text": [
      "<function get_total_cost at 0x000001F3066622F0>\n"
     ]
    }
   ],
   "source": [
    "print(get_total_cost)"
   ]
  },
  {
   "cell_type": "code",
   "execution_count": 31,
   "metadata": {},
   "outputs": [
    {
     "name": "stdout",
     "output_type": "stream",
     "text": [
      "<function get_total_cost at 0x000001F3066622F0>\n"
     ]
    }
   ],
   "source": [
    "print(shoplist)"
   ]
  },
  {
   "cell_type": "code",
   "execution_count": 25,
   "metadata": {},
   "outputs": [],
   "source": [
    "# class data_1\n",
    "import datetime\n",
    "class Pet(object):\n",
    "    \"\"\"A class that represents a generic Pet.\"\"\"\n",
    "\n",
    "    def __init__(self, birthyear, weight, length, color, owner=None):\n",
    "        \"\"\"Constructor for the Pet class.\n",
    "        Args:\n",
    "            birthyear (int): Year the pet was born.\n",
    "            weight (int): Weight of the pet in kg.\n",
    "            length (int): Length of the pet in cm.\n",
    "            color (str): Color of the pet.\n",
    "            owner (str, optional): Name of the pet's owner, defaults to None.\n",
    "        Attributes:\n",
    "            age: (int): Age of the pet in years.\n",
    "            birthyear (int): Year the pet was born.\n",
    "            weight (int): Weight of the pet in kg.\n",
    "            length (int): Length of the pet in cm.\n",
    "            color (str): Color of the pet.\n",
    "            owner (str, optional): Name of the pet's owner, defaults to None.\n",
    "        \"\"\"\n",
    "        self.age = datetime.datetime.now().year - birthyear\n",
    "        self.birthyear = birthyear\n",
    "        self.weight = weight\n",
    "        self.length = length\n",
    "        self.color = color\n",
    "        self.owner = owner\n"
   ]
  },
  {
   "cell_type": "code",
   "execution_count": 26,
   "metadata": {},
   "outputs": [],
   "source": [
    "FRUIT = {\n",
    "    'Black Plum': 2.99,\n",
    "    'Red Plum': 2.99,\n",
    "    'Grenade Pluot': 1.99,\n",
    "    'Organic Black Plum': 3.49,\n",
    "    'Peach': 3.99,\n",
    "    'White Peach': 3.99,\n",
    "    'Organic Peach': 4.99,\n",
    "    'Anjou Pears': 1.99,\n",
    "    'Organic Anjou Pears': 3.49,\n",
    "    'Bartlett Pears': 1.99,\n",
    "    'Organic Bartlett Pears': 3.39,\n",
    "    'Bosc Pear': 1.99,\n",
    "    'Organic Bosc Pear': 1.99,\n",
    "    'Comice Pear': 2.49,\n",
    "    'Forelle Pear': 2.99,\n",
    "    'Red Pear': 2.49,\n",
    "    'Asian Pear': 2.99,\n",
    "    'Local Asian Pear': 1.99,\n",
    "    'Seckel Pear': 1.99,\n",
    "    'Concord Grapes': 4.99,\n",
    "    'Green Seedless Grapes': 3.99,\n",
    "    'Red Seedless Grapes': 3.49,\n",
    "    'Strawberries': 3.99,\n",
    "    'Raspberries': 3.99,\n",
    "    'Blackberries': 4.49,\n",
    "    'Blueberries': 3.99,\n",
    "    'Cape Gooseberries': 4.99,\n",
    "    'Navel Orange': 1.49,\n",
    "    'Organic Navel Orange': 1.69,\n",
    "    'Pink Grapefruit': 1.29,\n",
    "    'Key Lime': 3.99,\n",
    "    'Lime': 0.59,\n",
    "    'Meyer Lemon': 3.99,\n",
    "    'Lemon': 0.95,\n",
    "    'Pink Lemon': 1.49,\n",
    "    'Citriburst Finger Lime': 5.99,\n",
    "    'Clementine Orange': 5.99,\n",
    "    'Fuji Apple': 2.21,\n",
    "    'Granny Smith Apple': 1.99,\n",
    "    'Organic Gala Apple': 3.44,\n",
    "    'Organic Granny Smith Apple': 3.50,\n",
    "    'Organic Honeycrisp Apple': 3.64,\n",
    "    'Cortland Apple': 2.00,\n",
    "    'Gala Apple': 2.18,\n",
    "    'Gold Supreme Apple': 2.10,\n",
    "    'Honeycrisp Apple': 2.98,\n",
    "    'McIntosh Apple': 1.81,\n",
    "    'Zestar Apple': 3.99,\n",
    "    'Yellow Banana': 0.88,\n",
    "    'Yellow Plantain': 0.99,\n",
    "    'Green Plantain': 0.99,\n",
    "}"
   ]
  },
  {
   "cell_type": "code",
   "execution_count": null,
   "metadata": {},
   "outputs": [],
   "source": []
  }
 ],
 "metadata": {
  "kernelspec": {
   "display_name": "Python 3",
   "language": "python",
   "name": "python3"
  },
  "language_info": {
   "codemirror_mode": {
    "name": "ipython",
    "version": 3
   },
   "file_extension": ".py",
   "mimetype": "text/x-python",
   "name": "python",
   "nbconvert_exporter": "python",
   "pygments_lexer": "ipython3",
   "version": "3.7.3"
  }
 },
 "nbformat": 4,
 "nbformat_minor": 2
}
