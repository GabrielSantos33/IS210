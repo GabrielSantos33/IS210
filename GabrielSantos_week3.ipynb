{
 "cells": [
  {
   "cell_type": "code",
   "execution_count": 3,
   "metadata": {},
   "outputs": [
    {
     "name": "stdout",
     "output_type": "stream",
     "text": [
      "Nevermore!\n"
     ]
    }
   ],
   "source": [
    "#IS210 Gabriel Santos 2/11/2020\n",
    "# TASK 01\n",
    "RAVEN = \"quoth\"\n",
    "RAVEN = \"Nevermore!\"\n",
    "print (RAVEN)"
   ]
  },
  {
   "cell_type": "code",
   "execution_count": 11,
   "metadata": {},
   "outputs": [
    {
     "name": "stdout",
     "output_type": "stream",
     "text": [
      "52.142857142857146\n"
     ]
    }
   ],
   "source": [
    "# TASK 02\n",
    "WEEKS = ((19%10 + 100 + 2**8) / 7)\n",
    "print (WEEKS)"
   ]
  },
  {
   "cell_type": "code",
   "execution_count": 12,
   "metadata": {},
   "outputs": [
    {
     "name": "stdout",
     "output_type": "stream",
     "text": [
      "Danger Will Robinson!\n",
      "Danger \n"
     ]
    }
   ],
   "source": [
    "# TASK 03\n",
    "WILL_ROBINSON = \"Danger Will Robinson!\"\n",
    "KLAXON = WILL_ROBINSON[slice(7)]\n",
    "print (WILL_ROBINSON)\n",
    "print (KLAXON)"
   ]
  },
  {
   "cell_type": "code",
   "execution_count": 13,
   "metadata": {},
   "outputs": [
    {
     "name": "stdout",
     "output_type": "stream",
     "text": [
      "Danger Danger Danger Danger Danger \n"
     ]
    }
   ],
   "source": [
    "# TASK 04\n",
    "KLAXON = KLAXON*5\n",
    "print (KLAXON)"
   ]
  },
  {
   "cell_type": "code",
   "execution_count": 22,
   "metadata": {},
   "outputs": [
    {
     "name": "stdout",
     "output_type": "stream",
     "text": [
      "['Michaelangelo', 'Lenoardo', 'Rafael', 'Donatello', 'Heroes in a half shell.']\n"
     ]
    }
   ],
   "source": [
    "# TASK 05\n",
    "TEENAGE_MUTANT_NINJAS = ('Michaelangelo. Lenoardo. Rafael. Donatello. Heroes '                       \n",
    "                         'in a half shell.')\n",
    "TURTLE_POWER = TEENAGE_MUTANT_NINJAS.split('. ')\n",
    "print (TURTLE_POWER)"
   ]
  },
  {
   "cell_type": "code",
   "execution_count": 24,
   "metadata": {},
   "outputs": [
    {
     "name": "stdout",
     "output_type": "stream",
     "text": [
      "A long-tailed cat in a room full of rockin' chairs.\n"
     ]
    }
   ],
   "source": [
    "#TASK 06\n",
    "NERVOUS_AS = \"\"\"\n",
    "//////////A long-tailed cat in a room full of rockin' chairs.,,,,,,,,,, \"\"\".strip( ).rstrip(\",\").lstrip('/')\n",
    "print (NERVOUS_AS)"
   ]
  },
  {
   "cell_type": "code",
   "execution_count": 26,
   "metadata": {},
   "outputs": [
    {
     "name": "stdout",
     "output_type": "stream",
     "text": [
      "Dr. Strangelove Or: How I Learned To Stop Worrying And Love The Bomb\n"
     ]
    }
   ],
   "source": [
    "# TASK 07\n",
    "MOVIE = 'dr. strangelove or: how i learned to stop worrying and love the bomb'\n",
    "ENTITLED = MOVIE.title()\n",
    "print (ENTITLED)"
   ]
  },
  {
   "cell_type": "code",
   "execution_count": null,
   "metadata": {},
   "outputs": [],
   "source": [
    "#TASK 08\n",
    "IS_TRUE = True\n",
    "IS_FALSE = False\n",
    "IS_NONE = None\n",
    "INTEGER_EQUIV = IS_TRUE == 1 and IS_FALSE == 0\n",
    "print (IS_TRUE)\n",
    "print (IS_FALSE)\n",
    "print (IS_NONE)\n",
    "INTEGER_EQUIV"
   ]
  }
 ],
 "metadata": {
  "kernelspec": {
   "display_name": "Python 3",
   "language": "python",
   "name": "python3"
  },
  "language_info": {
   "codemirror_mode": {
    "name": "ipython",
    "version": 3
   },
   "file_extension": ".py",
   "mimetype": "text/x-python",
   "name": "python",
   "nbconvert_exporter": "python",
   "pygments_lexer": "ipython3",
   "version": "3.7.3"
  }
 },
 "nbformat": 4,
 "nbformat_minor": 2
}
