{
 "cells": [
  {
   "cell_type": "code",
   "execution_count": 15,
   "metadata": {},
   "outputs": [],
   "source": [
    "#IS210 Gabriel Santos 3/03/2020\n",
    "#TASK 01\n",
    "\n",
    "ELEMENTS = tuple((None, 'Hydrogen', 'Helium', 'Lithium', 'Beryllium', 'Boron', 'Carbon'))\n",
    "OPERATIONS_ORDER = ['Parentheses', 'Exponents', 'Multiplication', 'Division', 'Addition', 'Subtraction']"
   ]
  },
  {
   "cell_type": "code",
   "execution_count": 16,
   "metadata": {},
   "outputs": [
    {
     "name": "stdout",
     "output_type": "stream",
     "text": [
      "(None, 'Hydrogen', 'Helium', 'Lithium', 'Beryllium', 'Boron', 'Carbon')\n"
     ]
    }
   ],
   "source": [
    "print(ELEMENTS)"
   ]
  },
  {
   "cell_type": "code",
   "execution_count": 17,
   "metadata": {},
   "outputs": [
    {
     "name": "stdout",
     "output_type": "stream",
     "text": [
      "['Parentheses', 'Exponents', 'Multiplication', 'Division', 'Addition', 'Subtraction']\n"
     ]
    }
   ],
   "source": [
    "print(OPERATIONS_ORDER)"
   ]
  },
  {
   "cell_type": "code",
   "execution_count": 18,
   "metadata": {},
   "outputs": [
    {
     "data": {
      "text/plain": [
       "['Parentheses',\n",
       " 'Exponents',\n",
       " 'Multiplication',\n",
       " 'Division',\n",
       " 'Addition',\n",
       " 'Subtraction']"
      ]
     },
     "execution_count": 18,
     "metadata": {},
     "output_type": "execute_result"
    }
   ],
   "source": [
    "OPERATIONS_ORDER"
   ]
  },
  {
   "cell_type": "code",
   "execution_count": 19,
   "metadata": {},
   "outputs": [],
   "source": [
    "#TASK 02\n",
    "\n",
    "def process_data(data):\n",
    "    \"\"\"\n",
    "    Adds values in a list or tuple and finds the sum and the average with floating point precision.\n",
    "    \n",
    "    Args: data(list or tuple): a list or tuple of numbers\n",
    "        \n",
    "    Returns: tuple: sum of all values, average of all values\n",
    "        \n",
    "    Examples:    \n",
    "        >>> process_data([1, 2, 3])\n",
    "            (6, 2.0)\n",
    "    \"\"\"\n",
    "    \n",
    "    mysum = 0\n",
    "    for item in data:\n",
    "        item += mysum\n",
    "        mysum = item\n",
    "        myavg = float(mysum)/len(data)\n",
    "    return (mysum, myavg)"
   ]
  },
  {
   "cell_type": "code",
   "execution_count": 20,
   "metadata": {},
   "outputs": [
    {
     "data": {
      "text/plain": [
       "(6, 2.0)"
      ]
     },
     "execution_count": 20,
     "metadata": {},
     "output_type": "execute_result"
    }
   ],
   "source": [
    "process_data([1,2,3])"
   ]
  },
  {
   "cell_type": "code",
   "execution_count": 31,
   "metadata": {},
   "outputs": [],
   "source": [
    "#TASK 03\n",
    "\n",
    "def flip_keys(flip):\n",
    "    \"\"\"\n",
    "    Returns the original list with its inner elements reversed.\n",
    "    \n",
    "    Args:\n",
    "        to_flip(list): a list assumed to have nested, immutable sequences\n",
    "        \n",
    "    Returns:\n",
    "        Returns the original list with its inner elements reversed\n",
    "        \n",
    "    Examples:\n",
    "        >>> flip_keys([(1, 2, 3), 'abc'])\n",
    "            [(3, 2, 1), 'cba']\n",
    "    \"\"\"\n",
    "    \n",
    "    counter = 0\n",
    "    for item in flip:\n",
    "        flip[counter] = item[::-1]\n",
    "        counter += 1\n",
    "    return flip"
   ]
  },
  {
   "cell_type": "code",
   "execution_count": 33,
   "metadata": {},
   "outputs": [],
   "source": [
    "LIST = ([(1, 2, 3), 'abc'])"
   ]
  },
  {
   "cell_type": "code",
   "execution_count": 34,
   "metadata": {},
   "outputs": [],
   "source": [
    "NEW = flip_keys(LIST)"
   ]
  },
  {
   "cell_type": "code",
   "execution_count": 35,
   "metadata": {},
   "outputs": [
    {
     "data": {
      "text/plain": [
       "True"
      ]
     },
     "execution_count": 35,
     "metadata": {},
     "output_type": "execute_result"
    }
   ],
   "source": [
    "LIST is NEW"
   ]
  },
  {
   "cell_type": "code",
   "execution_count": 36,
   "metadata": {},
   "outputs": [
    {
     "name": "stdout",
     "output_type": "stream",
     "text": [
      "[(3, 2, 1), 'cba']\n"
     ]
    }
   ],
   "source": [
    "print(LIST)"
   ]
  },
  {
   "cell_type": "code",
   "execution_count": null,
   "metadata": {},
   "outputs": [],
   "source": []
  }
 ],
 "metadata": {
  "kernelspec": {
   "display_name": "Python 3",
   "language": "python",
   "name": "python3"
  },
  "language_info": {
   "codemirror_mode": {
    "name": "ipython",
    "version": 3
   },
   "file_extension": ".py",
   "mimetype": "text/x-python",
   "name": "python",
   "nbconvert_exporter": "python",
   "pygments_lexer": "ipython3",
   "version": "3.7.3"
  }
 },
 "nbformat": 4,
 "nbformat_minor": 2
}
