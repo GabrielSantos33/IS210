{
 "cells": [
  {
   "cell_type": "code",
   "execution_count": 1,
   "metadata": {},
   "outputs": [],
   "source": [
    "BANDS = {\n",
    "    'Spinal Tap': {\n",
    "        'David St. Hubbins': ['vocals', 'guitar'],\n",
    "        'Nigel Tufnel': ['guitar', 'vocals', 'bass', 'violin', 'harmonica',\n",
    "                         'clarinet', 'keyboards', 'piano'],\n",
    "        'Derek Smalls': ['bass', 'vocals'],\n",
    "        'Jeffery Vanston': ['keyboards', 'piano', 'vocals'],\n",
    "        'Gregg Bissonette': ['drums'],\n",
    "    },\n",
    "    'The Beatles': {\n",
    "        'John': ['vocals', 'guitar', 'piano', 'keyboards'],\n",
    "        'Paul': ['vocals', 'bass', 'piano', 'keyboards'],\n",
    "        'George': ['vocals', 'guitar', 'other'],\n",
    "        'Ringo': ['vocals', 'drums'],\n",
    "    },\n",
    "    'The Who': {\n",
    "        'Roger Daltrey': ['vocals'],\n",
    "        'John Entwistle': ['bass'],\n",
    "        'Keith Moon': ['drums'],\n",
    "        'Pete Townsend': ['guitar']\n",
    "    },\n",
    "    'Van Halen': {\n",
    "        'Eddie Van Halen': ['guitar'],\n",
    "        'David Lee Roth': ['vocals'],\n",
    "        'Alex Van Halen': ['drums'],\n",
    "        'Michael Anthony': ['bass']\n",
    "    },\n",
    "    'Fleetwood Mac': {\n",
    "        'Mick Fleetwood': ['drums'],\n",
    "        'John McVie': ['bass'],\n",
    "        'Christine McVie': ['vocals', 'piano', 'keyboards'],\n",
    "    },\n",
    "    'Queen': {\n",
    "        'Freddie Mercury': ['vocals', 'piano'],\n",
    "        'Brian May': ['guitar', 'vocals'],\n",
    "        'John Deacon': ['bass'],\n",
    "        'Roger Taylor': ['drums', 'vocals']\n",
    "    },\n",
    "    'The Rolling Stones': {\n",
    "        'Mick Jagger': ['vocals', 'harmonica', 'percussion', 'guitar', 'piano',\n",
    "                        'bass'],\n",
    "        'Keith Richards': ['guitar', 'vocals'],\n",
    "        'Charlie Watts': ['drums', 'percussion'],\n",
    "        'Ronnie Wood': ['guitar', 'vocals', 'bass']\n",
    "    },\n",
    "}\n",
    "\n",
    "\n",
    "SUPERHEROES = {\n",
    "    'Kitty Pryde': {'alias': 'Shadowcat', 'pet': 'Lockheed'},\n",
    "    'Bruce Wayne': {'alias': 'Batman', 'pet': 'Ace'},\n",
    "    'Clark Kent': {'alias': 'Superman', 'pet': 'Krypto'},\n",
    "    'Samuel Wilson': {'alias': 'Falcon', 'pet': 'Redwing'},\n",
    "    'Logan': {'alias': 'Weapon X'}\n",
    "}"
   ]
  },
  {
   "cell_type": "code",
   "execution_count": 2,
   "metadata": {},
   "outputs": [],
   "source": [
    "NIGEL = BANDS['Spinal Tap']['Nigel Tufnel']\n",
    "BAND_NAMES = BANDS.keys()"
   ]
  },
  {
   "cell_type": "code",
   "execution_count": 16,
   "metadata": {},
   "outputs": [
    {
     "name": "stdout",
     "output_type": "stream",
     "text": [
      "{'Spinal Tap': {'David St. Hubbins': ['vocals', 'guitar'], 'Nigel Tufnel': ['guitar', 'vocals', 'bass', 'violin', 'harmonica', 'clarinet', 'keyboards', 'piano'], 'Derek Smalls': ['bass', 'vocals'], 'Jeffery Vanston': ['keyboards', 'piano', 'vocals'], 'Gregg Bissonette': ['drums']}, 'The Beatles': {'John': ['vocals', 'guitar', 'piano', 'keyboards'], 'Paul': ['vocals', 'bass', 'piano', 'keyboards'], 'George': ['vocals', 'guitar', 'other'], 'Ringo': ['vocals', 'drums']}, 'The Who': {'Roger Daltrey': ['vocals'], 'John Entwistle': ['bass'], 'Keith Moon': ['drums'], 'Pete Townsend': ['guitar']}, 'Van Halen': {'Eddie Van Halen': ['guitar'], 'Alex Van Halen': ['drums'], 'Michael Anthony': ['bass'], 'Sammy Hagar': ['vocals']}, 'Fleetwood Mac': {'Mick Fleetwood': ['drums'], 'John McVie': ['bass'], 'Christine McVie': ['vocals', 'piano', 'keyboards'], 'Lindsey Buckingham': ['guitar', 'vocals'], 'Stevie Nicks': ['vocals', 'tambourine']}, 'Queen': {'Freddie Mercury': ['vocals', 'piano'], 'Brian May': ['guitar', 'vocals'], 'John Deacon': ['bass'], 'Roger Taylor': ['drums', 'vocals']}, 'The Rolling Stones': {'Mick Jagger': ['vocals', 'harmonica', 'percussion', 'guitar', 'piano', 'bass'], 'Keith Richards': ['guitar', 'vocals'], 'Charlie Watts': ['drums', 'percussion'], 'Ronnie Wood': ['guitar', 'vocals', 'bass']}, 'Buckingham Nicks': {'Lindsey Buckingham': ['guitar', 'vocals'], 'Stevie Nicks': ['vocals', 'tambourine']}}\n"
     ]
    }
   ],
   "source": [
    "print(BANDS)"
   ]
  },
  {
   "cell_type": "code",
   "execution_count": 4,
   "metadata": {},
   "outputs": [
    {
     "name": "stdout",
     "output_type": "stream",
     "text": [
      "{'Kitty Pryde': {'alias': 'Shadowcat', 'pet': 'Lockheed'}, 'Bruce Wayne': {'alias': 'Batman', 'pet': 'Ace'}, 'Clark Kent': {'alias': 'Superman', 'pet': 'Krypto'}, 'Samuel Wilson': {'alias': 'Falcon', 'pet': 'Redwing'}, 'Logan': {'alias': 'Weapon X'}}\n"
     ]
    }
   ],
   "source": [
    "print(SUPERHEROES)"
   ]
  },
  {
   "cell_type": "code",
   "execution_count": 5,
   "metadata": {},
   "outputs": [
    {
     "name": "stdout",
     "output_type": "stream",
     "text": [
      "['guitar', 'vocals', 'bass', 'violin', 'harmonica', 'clarinet', 'keyboards', 'piano']\n"
     ]
    }
   ],
   "source": [
    "print(NIGEL)"
   ]
  },
  {
   "cell_type": "code",
   "execution_count": 6,
   "metadata": {},
   "outputs": [],
   "source": [
    "CORRECTED = BANDS.copy()\n",
    "\n",
    "CORRECTED['Dylan'] = {'Bob Dylan': ['vocals', 'guitar', 'harmonica']}\n",
    "\n",
    "del CORRECTED['Van Halen']['David Lee Roth']\n",
    "\n",
    "CORRECTED['Van Halen']['Sammy Hagar'] = ['vocals']"
   ]
  },
  {
   "cell_type": "code",
   "execution_count": 7,
   "metadata": {},
   "outputs": [
    {
     "name": "stdout",
     "output_type": "stream",
     "text": [
      "{'Spinal Tap': {'David St. Hubbins': ['vocals', 'guitar'], 'Nigel Tufnel': ['guitar', 'vocals', 'bass', 'violin', 'harmonica', 'clarinet', 'keyboards', 'piano'], 'Derek Smalls': ['bass', 'vocals'], 'Jeffery Vanston': ['keyboards', 'piano', 'vocals'], 'Gregg Bissonette': ['drums']}, 'The Beatles': {'John': ['vocals', 'guitar', 'piano', 'keyboards'], 'Paul': ['vocals', 'bass', 'piano', 'keyboards'], 'George': ['vocals', 'guitar', 'other'], 'Ringo': ['vocals', 'drums']}, 'The Who': {'Roger Daltrey': ['vocals'], 'John Entwistle': ['bass'], 'Keith Moon': ['drums'], 'Pete Townsend': ['guitar']}, 'Van Halen': {'Eddie Van Halen': ['guitar'], 'Alex Van Halen': ['drums'], 'Michael Anthony': ['bass'], 'Sammy Hagar': ['vocals']}, 'Fleetwood Mac': {'Mick Fleetwood': ['drums'], 'John McVie': ['bass'], 'Christine McVie': ['vocals', 'piano', 'keyboards']}, 'Queen': {'Freddie Mercury': ['vocals', 'piano'], 'Brian May': ['guitar', 'vocals'], 'John Deacon': ['bass'], 'Roger Taylor': ['drums', 'vocals']}, 'The Rolling Stones': {'Mick Jagger': ['vocals', 'harmonica', 'percussion', 'guitar', 'piano', 'bass'], 'Keith Richards': ['guitar', 'vocals'], 'Charlie Watts': ['drums', 'percussion'], 'Ronnie Wood': ['guitar', 'vocals', 'bass']}, 'Dylan': {'Bob Dylan': ['vocals', 'guitar', 'harmonica']}}\n"
     ]
    }
   ],
   "source": [
    "print(CORRECTED)"
   ]
  },
  {
   "cell_type": "code",
   "execution_count": 9,
   "metadata": {},
   "outputs": [],
   "source": [
    "BANDS['Buckingham Nicks'] = {\n",
    "    'Lindsey Buckingham': ['guitar', 'vocals'],\n",
    "    'Stevie Nicks': ['vocals', 'tambourine']\n",
    "}\n",
    "\n",
    "BANDS['Fleetwood Mac'].update(BANDS['Buckingham Nicks'])"
   ]
  },
  {
   "cell_type": "code",
   "execution_count": 15,
   "metadata": {},
   "outputs": [
    {
     "name": "stdout",
     "output_type": "stream",
     "text": [
      "{'Buckingham Nicks': {'Lindsey Buckingham': ['guitar', 'vocals'],\n",
      "                      'Stevie Nicks': ['vocals', 'tambourine']},\n",
      " 'Fleetwood Mac': {'Christine McVie': ['vocals', 'piano', 'keyboards'],\n",
      "                   'John McVie': ['bass'],\n",
      "                   'Lindsey Buckingham': ['guitar', 'vocals'],\n",
      "                   'Mick Fleetwood': ['drums'],\n",
      "                   'Stevie Nicks': ['vocals', 'tambourine']},\n",
      " 'Queen': {'Brian May': ['guitar', 'vocals'],\n",
      "           'Freddie Mercury': ['vocals', 'piano'],\n",
      "           'John Deacon': ['bass'],\n",
      "           'Roger Taylor': ['drums', 'vocals']},\n",
      " 'Spinal Tap': {'David St. Hubbins': ['vocals', 'guitar'],\n",
      "                'Derek Smalls': ['bass', 'vocals'],\n",
      "                'Gregg Bissonette': ['drums'],\n",
      "                'Jeffery Vanston': ['keyboards', 'piano', 'vocals'],\n",
      "                'Nigel Tufnel': ['guitar',\n",
      "                                 'vocals',\n",
      "                                 'bass',\n",
      "                                 'violin',\n",
      "                                 'harmonica',\n",
      "                                 'clarinet',\n",
      "                                 'keyboards',\n",
      "                                 'piano']},\n",
      " 'The Beatles': {'George': ['vocals', 'guitar', 'other'],\n",
      "                 'John': ['vocals', 'guitar', 'piano', 'keyboards'],\n",
      "                 'Paul': ['vocals', 'bass', 'piano', 'keyboards'],\n",
      "                 'Ringo': ['vocals', 'drums']},\n",
      " 'The Rolling Stones': {'Charlie Watts': ['drums', 'percussion'],\n",
      "                        'Keith Richards': ['guitar', 'vocals'],\n",
      "                        'Mick Jagger': ['vocals',\n",
      "                                        'harmonica',\n",
      "                                        'percussion',\n",
      "                                        'guitar',\n",
      "                                        'piano',\n",
      "                                        'bass'],\n",
      "                        'Ronnie Wood': ['guitar', 'vocals', 'bass']},\n",
      " 'The Who': {'John Entwistle': ['bass'],\n",
      "             'Keith Moon': ['drums'],\n",
      "             'Pete Townsend': ['guitar'],\n",
      "             'Roger Daltrey': ['vocals']},\n",
      " 'Van Halen': {'Alex Van Halen': ['drums'],\n",
      "               'Eddie Van Halen': ['guitar'],\n",
      "               'Michael Anthony': ['bass'],\n",
      "               'Sammy Hagar': ['vocals']}}\n"
     ]
    }
   ],
   "source": [
    "print(BANDS)"
   ]
  },
  {
   "cell_type": "code",
   "execution_count": 11,
   "metadata": {},
   "outputs": [],
   "source": [
    "SUPERHEROES['Logan']['alias'] = 'Wolverine'"
   ]
  },
  {
   "cell_type": "code",
   "execution_count": 17,
   "metadata": {},
   "outputs": [
    {
     "name": "stdout",
     "output_type": "stream",
     "text": [
      "{'Kitty Pryde': {'alias': 'Shadowcat', 'pet': 'Lockheed'}, 'Bruce Wayne': {'alias': 'Batman', 'pet': 'Ace'}, 'Clark Kent': {'alias': 'Superman', 'pet': 'Krypto'}, 'Samuel Wilson': {'alias': 'Falcon', 'pet': 'Redwing'}, 'Logan': {'alias': 'Wolverine'}}\n"
     ]
    }
   ],
   "source": [
    "print(SUPERHEROES)"
   ]
  },
  {
   "cell_type": "code",
   "execution_count": 18,
   "metadata": {},
   "outputs": [],
   "source": [
    "DATA = {\n",
    "    2: 7493945,\n",
    "    76: 4654320,\n",
    "    3: 4091979,\n",
    "    90: 1824881,\n",
    "    82: 714422,\n",
    "    45: 1137701,\n",
    "    10: 374362,\n",
    "    0: 326226,\n",
    "    -15: 417203,\n",
    "    -56: 333525,\n",
    "    67: 323451,\n",
    "    99: 321696,\n",
    "    21: 336753,\n",
    "    -100: 361237,\n",
    "    55: 1209714,\n",
    "    5150: 1771800,\n",
    "    42: 4714011,\n",
    "    888: 14817667,\n",
    "    3500: 13760234,\n",
    "    712: 10903322,\n",
    "    7: 10443792,\n",
    "    842: 11716264,\n",
    "    18584: 10559923,\n",
    "    666: 9275602,\n",
    "    70: 11901200,\n",
    "    153: 12074784,\n",
    "    8: 4337229\n",
    "}\n",
    "\n",
    "TEST = {\n",
    "    1: 10,\n",
    "    2: 40,\n",
    "    3: 60,\n",
    "    4: 80,\n",
    "    5: 100,\n",
    "    6: 200,\n",
    "    7: 300,\n",
    "    8: 500,\n",
    "    9: 601,\n",
    "    10: 1111\n",
    "}\n",
    "\n",
    "\n",
    "def iter_dict_funky_sum(myvar):\n",
    "    \"\"\"Dictionary iteration using the iteritems() method.\n",
    "    Args:\n",
    "        myvar(dict): A dictionary argument.\n",
    "        Returns:\n",
    "        (int): A running total of the value sum minus the keys.\n",
    "    Examples:\n",
    "        >>> iter_dict_funky_sum(DATA)\n",
    "        140166242\n",
    "        >>> iter_dict_funky_sum(TEST)\n",
    "        2947\n",
    "    \"\"\"\n",
    "    running_total = 0\n",
    "    for mykey, myvalue in myvar.items():\n",
    "        running_total = running_total + myvalue - mykey\n",
    "    return running_total\n"
   ]
  },
  {
   "cell_type": "code",
   "execution_count": 19,
   "metadata": {},
   "outputs": [
    {
     "name": "stdout",
     "output_type": "stream",
     "text": [
      "{2: 7493945, 76: 4654320, 3: 4091979, 90: 1824881, 82: 714422, 45: 1137701, 10: 374362, 0: 326226, -15: 417203, -56: 333525, 67: 323451, 99: 321696, 21: 336753, -100: 361237, 55: 1209714, 5150: 1771800, 42: 4714011, 888: 14817667, 3500: 13760234, 712: 10903322, 7: 10443792, 842: 11716264, 18584: 10559923, 666: 9275602, 70: 11901200, 153: 12074784, 8: 4337229}\n"
     ]
    }
   ],
   "source": [
    "print(DATA)"
   ]
  },
  {
   "cell_type": "code",
   "execution_count": 20,
   "metadata": {},
   "outputs": [
    {
     "data": {
      "text/plain": [
       "2947"
      ]
     },
     "execution_count": 20,
     "metadata": {},
     "output_type": "execute_result"
    }
   ],
   "source": [
    "iter_dict_funky_sum(TEST)"
   ]
  },
  {
   "cell_type": "code",
   "execution_count": 21,
   "metadata": {},
   "outputs": [
    {
     "data": {
      "text/plain": [
       "140166242"
      ]
     },
     "execution_count": 21,
     "metadata": {},
     "output_type": "execute_result"
    }
   ],
   "source": [
    "iter_dict_funky_sum(DATA)"
   ]
  },
  {
   "cell_type": "code",
   "execution_count": null,
   "metadata": {},
   "outputs": [],
   "source": []
  }
 ],
 "metadata": {
  "kernelspec": {
   "display_name": "Python 3",
   "language": "python",
   "name": "python3"
  },
  "language_info": {
   "codemirror_mode": {
    "name": "ipython",
    "version": 3
   },
   "file_extension": ".py",
   "mimetype": "text/x-python",
   "name": "python",
   "nbconvert_exporter": "python",
   "pygments_lexer": "ipython3",
   "version": "3.7.3"
  }
 },
 "nbformat": 4,
 "nbformat_minor": 2
}
